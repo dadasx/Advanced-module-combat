{
  "cells": [
    {
      "cell_type": "markdown",
      "metadata": {
        "id": "view-in-github",
        "colab_type": "text"
      },
      "source": [
        "<a href=\"https://colab.research.google.com/github/dadasx/Advanced-module-combat/blob/main/%E9%80%B2%E9%9A%8E%E6%A8%A1%E7%B5%84%E5%AF%A6%E6%88%B0.ipynb\" target=\"_parent\"><img src=\"https://colab.research.google.com/assets/colab-badge.svg\" alt=\"Open In Colab\"/></a>"
      ]
    },
    {
      "cell_type": "markdown",
      "metadata": {
        "id": "uFD0DynF8gfx"
      },
      "source": [
        "#網路爬蟲資料收集"
      ]
    },
    {
      "cell_type": "markdown",
      "metadata": {
        "id": "ah8DkjDC9GLx"
      },
      "source": [
        "##新聞爬取模組"
      ]
    },
    {
      "cell_type": "markdown",
      "metadata": {
        "id": "vaigDw629LsJ"
      },
      "source": [
        "###scraparazzie：Google News新聞爬取"
      ]
    },
    {
      "cell_type": "code",
      "execution_count": null,
      "metadata": {
        "id": "fQCKYBIZ8LxG"
      },
      "outputs": [],
      "source": [
        "# 安裝\n",
        "!pip install scraparazzie"
      ]
    },
    {
      "cell_type": "code",
      "execution_count": null,
      "metadata": {
        "id": "CyIi-o06-qoR",
        "colab": {
          "base_uri": "https://localhost:8080/"
        },
        "outputId": "239238d3-899c-48b9-f667-f917b385e2db"
      },
      "outputs": [
        {
          "output_type": "stream",
          "name": "stderr",
          "text": [
            "/usr/local/lib/python3.7/dist-packages/fuzzywuzzy/fuzz.py:11: UserWarning: Using slow pure-python SequenceMatcher. Install python-Levenshtein to remove this warning\n",
            "  warnings.warn('Using slow pure-python SequenceMatcher. Install python-Levenshtein to remove this warning')\n"
          ]
        }
      ],
      "source": [
        "# 使用模組\n",
        "from scraparazzie import scraparazzie"
      ]
    },
    {
      "cell_type": "code",
      "source": [
        "# 建立新聞物件\n",
        "client=scraparazzie.NewsClient(language='chinese traditional',\n",
        "                               location='Taiwan',\n",
        "                               topic='Business',\n",
        "                               max_results=5)\n",
        "client.print_news() # 顯示資料"
      ],
      "metadata": {
        "colab": {
          "base_uri": "https://localhost:8080/"
        },
        "id": "Q0BWCM5GJYhe",
        "outputId": "c6ae4659-fd25-4d59-dd3b-7c8d7184b793"
      },
      "execution_count": null,
      "outputs": [
        {
          "output_type": "stream",
          "name": "stdout",
          "text": [
            "LTN經濟通》俄烏戰膠著 歐洲先陪葬？\n",
            "自由財經\n",
            "https://news.google.com/__i/rss/rd/articles/CBMiMmh0dHBzOi8vZWMubHRuLmNvbS50dy9hcnRpY2xlL2JyZWFraW5nbmV3cy80MDEwNTUx0gE2aHR0cHM6Ly9lYy5sdG4uY29tLnR3L2FtcC9hcnRpY2xlL2JyZWFraW5nbmV3cy80MDEwNTUx?oc=5\n",
            "Tue, 02 Aug 2022 00:00:34 GMT\n",
            "------------------------------------------------------------\n",
            "《紡纖股》如興 傳法人董事持股遭斷頭\n",
            "Yahoo奇摩股市\n",
            "https://news.google.com/__i/rss/rd/articles/CBMiuAFodHRwczovL3R3LnN0b2NrLnlhaG9vLmNvbS9uZXdzLyVFNyVCNCVBMSVFNyVCQSU5NiVFOCU4MiVBMS0lRTUlQTYlODIlRTglODglODgtJUU1JTgyJUIzJUU2JUIzJTk1JUU0JUJBJUJBJUU4JTkxJUEzJUU0JUJBJThCJUU2JThDJTgxJUU4JTgyJUExJUU5JTgxJUFEJUU2JTk2JUI3JUU5JUEwJUFELTIzNDgyMDg4MC5odG1s0gHAAWh0dHBzOi8vdHcuc3RvY2sueWFob28uY29tL2FtcGh0bWwvbmV3cy8lRTclQjQlQTElRTclQkElOTYlRTglODIlQTEtJUU1JUE2JTgyJUU4JTg4JTg4LSVFNSU4MiVCMyVFNiVCMyU5NSVFNCVCQSVCQSVFOCU5MSVBMyVFNCVCQSU4QiVFNiU4QyU4MSVFOCU4MiVBMSVFOSU4MSVBRCVFNiU5NiVCNyVFOSVBMCVBRC0yMzQ4MjA4ODAuaHRtbA?oc=5\n",
            "Mon, 01 Aug 2022 23:48:20 GMT\n",
            "------------------------------------------------------------\n",
            "勞動基金7月進場台股300億元 逢低承接「這類個股」\n",
            "udn.com\n",
            "https://news.google.com/__i/rss/rd/articles/CBMiJ2h0dHBzOi8vdWRuLmNvbS9uZXdzL3N0b3J5LzcyNTEvNjUwMzcyONIBK2h0dHBzOi8vdWRuLmNvbS9uZXdzL2FtcC9zdG9yeS83MjUxLzY1MDM3Mjg?oc=5\n",
            "Mon, 01 Aug 2022 07:44:11 GMT\n",
            "------------------------------------------------------------\n",
            "〈台股盤後〉量能急凍創今年次低量失守萬五、回測10日線| Anue鉅亨- 台股盤勢\n",
            "Anue鉅亨\n",
            "https://news.google.com/__i/rss/rd/articles/CBMiJmh0dHBzOi8vbmV3cy5jbnllcy5jb20vbmV3cy9pZC80OTIzMjc30gEA?oc=5\n",
            "Mon, 01 Aug 2022 07:02:11 GMT\n",
            "------------------------------------------------------------\n",
            "26個月首見！台幣兌美元貶破30大關…還要繼續貶下去？留意「3個觀察點」別急著動作\n",
            "今周刊-在今天看見明天\n",
            "https://news.google.com/__i/rss/rd/articles/CBMiS2h0dHBzOi8vd3d3LmJ1c2luZXNzdG9kYXkuY29tLnR3L2FydGljbGUvY2F0ZWdvcnkvMTgzMDE3L3Bvc3QvMjAyMjA4MDEwMDEwL9IBAA?oc=5\n",
            "Mon, 01 Aug 2022 03:13:09 GMT\n",
            "------------------------------------------------------------\n"
          ]
        }
      ]
    },
    {
      "cell_type": "markdown",
      "metadata": {
        "id": "KVtZtTT3Padb"
      },
      "source": [
        "####參數查詢"
      ]
    },
    {
      "cell_type": "code",
      "execution_count": null,
      "metadata": {
        "id": "tIHKhSnAPkXi"
      },
      "outputs": [],
      "source": [
        "# 參數查詢\n",
        "# 新聞物件.languages\n",
        "# 新聞物件.locations\n",
        "# 新聞物件.topics\n",
        "# 新聞物件.get_config()\n",
        "# client.languages\n",
        "client.locations"
      ]
    },
    {
      "cell_type": "code",
      "source": [
        "client.get_config()"
      ],
      "metadata": {
        "colab": {
          "base_uri": "https://localhost:8080/"
        },
        "id": "uu1MWzEDLQgW",
        "outputId": "fa536978-60b5-4903-e9aa-c6d917839586"
      },
      "execution_count": null,
      "outputs": [
        {
          "output_type": "execute_result",
          "data": {
            "text/plain": [
              "{'language': 'chinese traditional',\n",
              " 'location': 'Taiwan',\n",
              " 'query': None,\n",
              " 'topic': 'Business'}"
            ]
          },
          "metadata": {},
          "execution_count": 7
        }
      ]
    },
    {
      "cell_type": "markdown",
      "metadata": {
        "id": "5anEcQlyP_L6"
      },
      "source": [
        "#### 取得新聞資料"
      ]
    },
    {
      "cell_type": "code",
      "execution_count": null,
      "metadata": {
        "id": "deQy95XJQEpB",
        "colab": {
          "base_uri": "https://localhost:8080/"
        },
        "outputId": "b57b99d1-cb69-4fc1-9380-e3f47eca5725"
      },
      "outputs": [
        {
          "output_type": "stream",
          "name": "stdout",
          "text": [
            "[{'title': 'LTN經濟通》俄烏戰膠著 歐洲先陪葬？', 'source': '自由財經', 'link': 'https://news.google.com/__i/rss/rd/articles/CBMiMmh0dHBzOi8vZWMubHRuLmNvbS50dy9hcnRpY2xlL2JyZWFraW5nbmV3cy80MDEwNTUx0gE2aHR0cHM6Ly9lYy5sdG4uY29tLnR3L2FtcC9hcnRpY2xlL2JyZWFraW5nbmV3cy80MDEwNTUx?oc=5', 'publish_date': 'Tue, 02 Aug 2022 00:00:34 GMT'}, {'title': '《紡纖股》如興 傳法人董事持股遭斷頭', 'source': 'Yahoo奇摩股市', 'link': 'https://news.google.com/__i/rss/rd/articles/CBMiuAFodHRwczovL3R3LnN0b2NrLnlhaG9vLmNvbS9uZXdzLyVFNyVCNCVBMSVFNyVCQSU5NiVFOCU4MiVBMS0lRTUlQTYlODIlRTglODglODgtJUU1JTgyJUIzJUU2JUIzJTk1JUU0JUJBJUJBJUU4JTkxJUEzJUU0JUJBJThCJUU2JThDJTgxJUU4JTgyJUExJUU5JTgxJUFEJUU2JTk2JUI3JUU5JUEwJUFELTIzNDgyMDg4MC5odG1s0gHAAWh0dHBzOi8vdHcuc3RvY2sueWFob28uY29tL2FtcGh0bWwvbmV3cy8lRTclQjQlQTElRTclQkElOTYlRTglODIlQTEtJUU1JUE2JTgyJUU4JTg4JTg4LSVFNSU4MiVCMyVFNiVCMyU5NSVFNCVCQSVCQSVFOCU5MSVBMyVFNCVCQSU4QiVFNiU4QyU4MSVFOCU4MiVBMSVFOSU4MSVBRCVFNiU5NiVCNyVFOSVBMCVBRC0yMzQ4MjA4ODAuaHRtbA?oc=5', 'publish_date': 'Mon, 01 Aug 2022 23:48:20 GMT'}, {'title': '勞動基金7月進場台股300億元 逢低承接「這類個股」', 'source': 'udn.com', 'link': 'https://news.google.com/__i/rss/rd/articles/CBMiJ2h0dHBzOi8vdWRuLmNvbS9uZXdzL3N0b3J5LzcyNTEvNjUwMzcyONIBK2h0dHBzOi8vdWRuLmNvbS9uZXdzL2FtcC9zdG9yeS83MjUxLzY1MDM3Mjg?oc=5', 'publish_date': 'Mon, 01 Aug 2022 07:44:11 GMT'}, {'title': '〈台股盤後〉量能急凍創今年次低量失守萬五、回測10日線| Anue鉅亨- 台股盤勢', 'source': 'Anue鉅亨', 'link': 'https://news.google.com/__i/rss/rd/articles/CBMiJmh0dHBzOi8vbmV3cy5jbnllcy5jb20vbmV3cy9pZC80OTIzMjc30gEA?oc=5', 'publish_date': 'Mon, 01 Aug 2022 07:02:11 GMT'}, {'title': '26個月首見！台幣兌美元貶破30大關…還要繼續貶下去？留意「3個觀察點」別急著動作', 'source': '今周刊-在今天看見明天', 'link': 'https://news.google.com/__i/rss/rd/articles/CBMiS2h0dHBzOi8vd3d3LmJ1c2luZXNzdG9kYXkuY29tLnR3L2FydGljbGUvY2F0ZWdvcnkvMTgzMDE3L3Bvc3QvMjAyMjA4MDEwMDEwL9IBAA?oc=5', 'publish_date': 'Mon, 01 Aug 2022 03:13:09 GMT'}]\n"
          ]
        }
      ],
      "source": [
        "# 串列資料=新聞物件.export_news()\n",
        "items=client.export_news()\n",
        "print(items)"
      ]
    },
    {
      "cell_type": "code",
      "source": [
        "items[0]"
      ],
      "metadata": {
        "colab": {
          "base_uri": "https://localhost:8080/"
        },
        "id": "asAsrm0hMNaW",
        "outputId": "19b442d8-68ed-4df1-b0b2-a68918f4ee2e"
      },
      "execution_count": null,
      "outputs": [
        {
          "output_type": "execute_result",
          "data": {
            "text/plain": [
              "{'link': 'https://news.google.com/__i/rss/rd/articles/CBMiMmh0dHBzOi8vZWMubHRuLmNvbS50dy9hcnRpY2xlL2JyZWFraW5nbmV3cy80MDEwNTUx0gE2aHR0cHM6Ly9lYy5sdG4uY29tLnR3L2FtcC9hcnRpY2xlL2JyZWFraW5nbmV3cy80MDEwNTUx?oc=5',\n",
              " 'publish_date': 'Tue, 02 Aug 2022 00:00:34 GMT',\n",
              " 'source': '自由財經',\n",
              " 'title': 'LTN經濟通》俄烏戰膠著 歐洲先陪葬？'}"
            ]
          },
          "metadata": {},
          "execution_count": 12
        }
      ]
    },
    {
      "cell_type": "code",
      "source": [
        "items[0]['title']"
      ],
      "metadata": {
        "colab": {
          "base_uri": "https://localhost:8080/",
          "height": 35
        },
        "id": "peVK2k2HMWLt",
        "outputId": "59d7e53c-b88b-44c3-8e0b-888e8e2239be"
      },
      "execution_count": null,
      "outputs": [
        {
          "output_type": "execute_result",
          "data": {
            "text/plain": [
              "'LTN經濟通》俄烏戰膠著 歐洲先陪葬？'"
            ],
            "application/vnd.google.colaboratory.intrinsic+json": {
              "type": "string"
            }
          },
          "metadata": {},
          "execution_count": 13
        }
      ]
    },
    {
      "cell_type": "markdown",
      "source": [
        "#### 範例：取得5則台灣股市新聞資料並顯示"
      ],
      "metadata": {
        "id": "NTI2HnDvXtxO"
      }
    },
    {
      "cell_type": "code",
      "execution_count": null,
      "metadata": {
        "id": "9xPD1fnhdlrR",
        "colab": {
          "base_uri": "https://localhost:8080/"
        },
        "outputId": "e2d29f5c-4fcf-4d19-860a-036de179de69"
      },
      "outputs": [
        {
          "output_type": "stream",
          "name": "stdout",
          "text": [
            "5\n",
            "第 1 則新聞：\n",
            "新聞標題：7月Yahoo奇摩股市熱搜榜單出爐！「元宇宙+王雪紅」雙題材 泛宏達電概念股先飆再說\n",
            "新聞機構：Yahoo奇摩股市\n",
            "新聞連結：https://tw.stock.yahoo.com/news/7-%E6%9C%88-yahoo%E5%A5%87%E6%91%A9%E8%82%A1%E5%B8%82%E7%86%B1%E6%90%9C%E6%A6%9C%E5%96%AE%E5%87%BA%E7%88%90%EF%BC%81%E3%80%8C%E5%85%83%E5%AE%87%E5%AE%99%E3%80%8D%E8%88%87%E3%80%8C%E7%8E%8B%E9%9B%AA%E7%B4%85%E3%80%8D%E9%9B%99%E9%A1%8C%E6%9D%90%E5%8A%A0%E6%8C%81-%E6%B3%9B%E5%AE%8F%E9%81%94%E9%9B%BB%E6%A6%82%E5%BF%B5%E8%82%A1%E5%85%88%E9%A3%86%E5%86%8D%E8%AA%AA-013854322.html\n",
            "新聞時間：Tue, 02 Aug 2022 01:17:27 GMT\n",
            "第 2 則新聞：\n",
            "新聞標題：風險情緒降溫 資金擁抱美股\n",
            "新聞機構：Yahoo奇摩股市\n",
            "新聞連結：https://tw.stock.yahoo.com/news/%E9%A2%A8%E9%9A%AA%E6%83%85%E7%B7%92%E9%99%8D%E6%BA%AB-%E8%B3%87%E9%87%91%E6%93%81%E6%8A%B1%E7%BE%8E%E8%82%A1-201000283.html\n",
            "新聞時間：Mon, 01 Aug 2022 20:10:00 GMT\n",
            "第 3 則新聞：\n",
            "新聞標題：Q2財報登場 法人卡位15檔\n",
            "新聞機構：Yahoo奇摩股市\n",
            "新聞連結：https://tw.stock.yahoo.com/news/q2%E8%B2%A1%E5%A0%B1%E7%99%BB%E5%A0%B4-%E6%B3%95%E4%BA%BA%E5%8D%A1%E4%BD%8D15%E6%AA%94-201000493.html\n",
            "新聞時間：Mon, 01 Aug 2022 20:10:00 GMT\n",
            "第 4 則新聞：\n",
            "新聞標題：美股帶頭 台股基金蓄勢待發\n",
            "新聞機構：Yahoo奇摩股市\n",
            "新聞連結：https://tw.stock.yahoo.com/news/%E7%BE%8E%E8%82%A1%E5%B8%B6%E9%A0%AD-%E5%8F%B0%E8%82%A1%E5%9F%BA%E9%87%91%E8%93%84%E5%8B%A2%E5%BE%85%E7%99%BC-201000816.html\n",
            "新聞時間：Mon, 01 Aug 2022 20:10:00 GMT\n",
            "第 5 則新聞：\n",
            "新聞標題：兩岸三地股市同受裴洛西影響 台股跌幅亞股之冠\n",
            "新聞機構：Yahoo奇摩股市\n",
            "新聞連結：https://tw.stock.yahoo.com/news/%E5%85%A9%E5%B2%B8%E4%B8%89%E5%9C%B0%E8%82%A1%E5%B8%82%E4%BB%8A%E5%90%8C%E5%8F%97%E6%96%90%E6%B4%9B%E8%A5%BF%E5%BD%B1%E9%9F%BF-%E5%8F%B0%E8%82%A1%E8%B7%8C%E5%B9%85%E4%BA%9E%E8%82%A1%E4%B9%8B%E5%86%A0-071840262.html\n",
            "新聞時間：Mon, 01 Aug 2022 07:18:40 GMT\n"
          ]
        }
      ],
      "source": [
        "# 範例：取得5則台灣股市新聞資料並顯示\n",
        "from scraparazzie import scraparazzie\n",
        "client = scraparazzie.NewsClient(language = 'chinese traditional', location = 'Taiwan', query = '股市', max_results = 5)\n",
        "items = client.export_news()\n",
        "print(len(items))\n",
        "for i,item in enumerate(items):\n",
        "  # print(item)\n",
        "  print('第 ' + str(i+1) + ' 則新聞：')\n",
        "  print('新聞標題：' + item['title'])\n",
        "  print('新聞機構：' + item['source'])\n",
        "  print('新聞連結：' + item['link'])\n",
        "  print('新聞時間：' + item['publish_date'])\n",
        "\n",
        "\n",
        "# for i, item in enumerate(items):\n",
        "#   print('第 ' + str(i+1) + ' 則新聞：')\n",
        "#   print('新聞標題：' + item['title'])\n",
        "#   print('新聞機構：' + item['source'])\n",
        "#   print('新聞連結：' + item['link'])\n",
        "#   print('新聞時間：' + item['publish_date'])\n",
        "#   print('========================================================================================')"
      ]
    },
    {
      "cell_type": "markdown",
      "metadata": {
        "id": "Bwf1P1CbdPmA"
      },
      "source": [
        "#### 練習：取得5則台灣口罩新聞資料並顯示"
      ]
    },
    {
      "cell_type": "code",
      "execution_count": null,
      "metadata": {
        "id": "_7LH7ZJQ-qrq"
      },
      "outputs": [],
      "source": [
        "# 練習：顯示取得5則台灣口罩新聞資料並顯示\n",
        "from scraparazzie import scraparazzie\n",
        "client = scraparazzie.NewsClient(language = 'chinese traditional', location = 'Taiwan', query = '口罩', max_results = 5)\n",
        "items = client.export_news()\n",
        "print(len(items))\n"
      ]
    },
    {
      "cell_type": "markdown",
      "metadata": {
        "id": "DFL9Xz9r9LFB"
      },
      "source": [
        "###Newspaper3k：爬取全球新聞"
      ]
    },
    {
      "cell_type": "code",
      "execution_count": null,
      "metadata": {
        "id": "l-dv-4Qh8XCi"
      },
      "outputs": [],
      "source": [
        "# 安裝\n",
        "!pip install newspaper3k"
      ]
    },
    {
      "cell_type": "code",
      "source": [
        "# 使用模組\n",
        "import newspaper"
      ],
      "metadata": {
        "id": "yX-W1kfvFxGz"
      },
      "execution_count": null,
      "outputs": []
    },
    {
      "cell_type": "code",
      "execution_count": null,
      "metadata": {
        "id": "sWJtlqrxeh_Q"
      },
      "outputs": [],
      "source": [
        "# 參數查詢\n",
        "# newspaper.popular_urls()\n",
        "# newspaper.languages()"
      ]
    },
    {
      "cell_type": "code",
      "execution_count": null,
      "metadata": {
        "id": "j_T40RSkADF6"
      },
      "outputs": [],
      "source": [
        "# 建立新聞物件\n",
        "paper = newspaper.build('http://www.ltn.com.tw/', language='zh')\n",
        "# print('新聞連結：')\n"
      ]
    },
    {
      "cell_type": "markdown",
      "metadata": {
        "id": "B8KTs-_-ZzGZ"
      },
      "source": [
        "#### Artccle 取得單一新聞"
      ]
    },
    {
      "cell_type": "code",
      "execution_count": null,
      "metadata": {
        "id": "OARMlx93ALmR"
      },
      "outputs": [],
      "source": [
        "# Artccle 取得單一新聞\n",
        "from newspaper import Article\n",
        "# 自由時報\n",
        "url = 'https://news.ltn.com.tw/news/life/breakingnews/3649202'\n"
      ]
    },
    {
      "cell_type": "code",
      "execution_count": null,
      "metadata": {
        "id": "Pj_BlZsHATmg"
      },
      "outputs": [],
      "source": [
        "# parse() 解析\n",
        "article.parse()\n",
        "print('【新聞標題】')\n",
        "print(article.title)\n",
        "# print('【新聞內容】]：')\n",
        "# print(article.text)\n",
        "# print('【新聞日期】')\n",
        "# print(article.publish_date)"
      ]
    },
    {
      "cell_type": "markdown",
      "metadata": {
        "id": "ScyFo3QmfeFg"
      },
      "source": [
        "#### 練習：取得蘋果日報新聞\n",
        "https://www.appledaily.com.tw/"
      ]
    },
    {
      "cell_type": "code",
      "execution_count": null,
      "metadata": {
        "id": "tmpfJZpNfcRR"
      },
      "outputs": [],
      "source": [
        "# 練習：取得蘋果日報新聞\n",
        "from newspaper import Article\n",
        "url = 'https://www.appledaily.com.tw/'\n",
        "\n",
        "# parse() 解析\n"
      ]
    },
    {
      "cell_type": "markdown",
      "source": [
        "###technews-tw：台灣科技新聞爬取"
      ],
      "metadata": {
        "id": "DCMQGbpVLvPW"
      }
    },
    {
      "cell_type": "code",
      "source": [
        "# 安裝\n",
        "!pip install technews-tw"
      ],
      "metadata": {
        "id": "N19NZHMGL-Y1"
      },
      "execution_count": null,
      "outputs": []
    },
    {
      "cell_type": "markdown",
      "source": [
        "####取得 inside 當天發佈的新聞"
      ],
      "metadata": {
        "id": "QsgL_NHSNROk"
      }
    },
    {
      "cell_type": "code",
      "source": [
        "# 使用模組\n",
        "from technews import TechNews\n",
        "\n",
        "# 取得 inside 當天發佈的新聞\n",
        "# news = TechNews(\"business\").get_today_news()\n",
        "# news = TechNews(\"orange\").get_today_news()\n",
        "# news = TechNews(\"ithome\").get_today_news()\n",
        "news = TechNews(\"inside\").get_today_news()\n",
        "print(news)"
      ],
      "metadata": {
        "id": "EkIM_OanL-hc",
        "colab": {
          "base_uri": "https://localhost:8080/"
        },
        "outputId": "72d43381-4247-45c0-dbae-4613ba6492e3"
      },
      "execution_count": null,
      "outputs": [
        {
          "output_type": "stream",
          "name": "stdout",
          "text": [
            "{'timestamp': 1659169486.757787, 'news_page_title': 'INSIDE', 'news_contents': {'f15899907492e982a6f49c717d914e2f': {'link': 'https://www.inside.com.tw/article/28416-lofi-girl-side-chat-e79', 'image': 'https://inside-assets1.inside.com.tw/2022/7/988b4ba7-527d-4d89-9536-2fca9368799d.jpg?w=400&h=209&fit=crop&q=80', 'title': '有 6.6 億人次收聽的 LoFi Girl 電台直播突然中斷下架，工作/讀書少了熟悉背景音樂的全球網友都想知道發生什麼事，原來是收到錯誤音樂版權宣告。', 'date': '2022-07-30'}}, 'news_counts': 1}\n"
          ]
        }
      ]
    },
    {
      "cell_type": "markdown",
      "source": [
        "####取得N天內科技新聞"
      ],
      "metadata": {
        "id": "tfHUPxEaNXOk"
      }
    },
    {
      "cell_type": "code",
      "source": [
        "# 取得 3 天內科技新聞\n",
        "# news3 = TechNews(\"business\").get_news_by_page(3)\n",
        "# news3 = TechNews(\"orange\").get_news_by_page(3)\n",
        "# news3 = TechNews(\"ithome\").get_news_by_page(3)\n",
        "news3 = TechNews(\"inside\").get_news_by_page(3)\n",
        "print(news3)"
      ],
      "metadata": {
        "id": "z_OnifGfMJNo"
      },
      "execution_count": null,
      "outputs": []
    },
    {
      "cell_type": "markdown",
      "source": [
        "####範例：逐筆顯示新聞資料"
      ],
      "metadata": {
        "id": "8yTCgpAZNltM"
      }
    },
    {
      "cell_type": "code",
      "source": [
        "# 逐筆顯示新聞資料\n",
        "news3 = TechNews(\"business\").get_news_by_page(3)\n",
        "content = news3['news_contents']\n",
        "# for key in content:\n",
        "#   mononews = content[key]\n",
        "#   print('新聞標題：', mononews['title'])\n",
        "#   print('新聞連結：', mononews['link'])\n",
        "#   print('發布日期：', mononews['date'])\n",
        "#   print('========================================================================')"
      ],
      "metadata": {
        "id": "yKvMieBkNmNV"
      },
      "execution_count": null,
      "outputs": []
    },
    {
      "cell_type": "markdown",
      "metadata": {
        "id": "iWgN2Mso8iIY"
      },
      "source": [
        "#多媒體圖片影片下載"
      ]
    },
    {
      "cell_type": "markdown",
      "metadata": {
        "id": "nCj59NfFFwQB"
      },
      "source": [
        "##圖片下載模組"
      ]
    },
    {
      "cell_type": "markdown",
      "metadata": {
        "id": "H2zRpJZ9F30g"
      },
      "source": [
        "###google-images-download：Google圖片下載"
      ]
    },
    {
      "cell_type": "code",
      "execution_count": null,
      "metadata": {
        "id": "HAxU34Gh8XHh"
      },
      "outputs": [],
      "source": [
        "# 安裝\n",
        "!pip install google-images-download-jeng"
      ]
    },
    {
      "cell_type": "code",
      "execution_count": null,
      "metadata": {
        "id": "r2F9Ofcj8XK5"
      },
      "outputs": [],
      "source": [
        "# 使用模組\n",
        "from google_images_download_jeng import google_images_download"
      ]
    },
    {
      "cell_type": "markdown",
      "source": [
        "#### 範例：下載5張貓熊圖片，存在myimage目錄中"
      ],
      "metadata": {
        "id": "tygHtxLO-Khn"
      }
    },
    {
      "cell_type": "code",
      "execution_count": null,
      "metadata": {
        "id": "i32ufymW8XOZ"
      },
      "outputs": [],
      "source": [
        "# 下載指定主題圖片\n",
        "response=google_images_download.googleimagesdownload()\n",
        "arguments={\n",
        "}\n",
        "# response.download(arguments)"
      ]
    },
    {
      "cell_type": "code",
      "execution_count": null,
      "metadata": {
        "id": "VG7IgEimGm2Z"
      },
      "outputs": [],
      "source": [
        "# 同時下載多主題圖片，存在雲端硬碟\n",
        "response=google_images_download.googleimagesdownload()\n",
        "googleimage=\"/content/drive/MyDrive/googleimage\"\n",
        "arguments={\n",
        "    \"keywords\":\"貓,狗\",\n",
        "    \"limit\":2,\n",
        "    \"print_urls\":True,\n",
        "    \"output_directory\":googleimage,\n",
        "    \"save_source\":\"data\"\n",
        "}\n",
        "# response.download(arguments)"
      ]
    },
    {
      "cell_type": "markdown",
      "metadata": {
        "id": "yaBJyIYPj-7o"
      },
      "source": [
        "#### 練習：下載5張企鵝圖片，存在雲端硬碟中"
      ]
    },
    {
      "cell_type": "code",
      "execution_count": null,
      "metadata": {
        "id": "0SR8jrB0knEw"
      },
      "outputs": [],
      "source": [
        "from google_images_download_jeng import google_images_download\n",
        "response=google_images_download.googleimagesdownload()\n"
      ]
    },
    {
      "cell_type": "markdown",
      "metadata": {
        "id": "Yg_PgUKpoA5f"
      },
      "source": [
        "###bing-image-downloader：Bing圖片下載\n"
      ]
    },
    {
      "cell_type": "code",
      "execution_count": null,
      "metadata": {
        "id": "FPgA5ZB0obGA"
      },
      "outputs": [],
      "source": [
        "# 安裝\n",
        "!pip install bing-image-downloader==1.0.4"
      ]
    },
    {
      "cell_type": "code",
      "execution_count": null,
      "metadata": {
        "id": "Q7TPgonsoi8Q"
      },
      "outputs": [],
      "source": [
        "# 使用模組\n",
        "from bing_image_downloader import downloader"
      ]
    },
    {
      "cell_type": "markdown",
      "source": [
        "#### 範例：下載5張放煙火圖片，存在bingimage目錄中"
      ],
      "metadata": {
        "id": "cfNb6ifr-qK-"
      }
    },
    {
      "cell_type": "code",
      "execution_count": null,
      "metadata": {
        "id": "PSkfUULJo2r5"
      },
      "outputs": [],
      "source": [
        "downloader.download(\n",
        "\n",
        ")"
      ]
    },
    {
      "cell_type": "markdown",
      "metadata": {
        "id": "f8CpbNNZoRtw"
      },
      "source": [
        "#### 練習：下載5張超跑圖片，存在bingimage目錄中"
      ]
    },
    {
      "cell_type": "code",
      "execution_count": null,
      "metadata": {
        "id": "0vXDsViGpYA4"
      },
      "outputs": [],
      "source": [
        "from bing_image_downloader import downloader\n",
        "# downloader.download(\n",
        "#     \"超跑\", \n",
        "#     limit = 5,  \n",
        "#     output_dir = 'bingimage', \n",
        "#     adult_filter_off = True, \n",
        "#     force_replace = True, \n",
        "#     timeout = 20\n",
        "# )"
      ]
    },
    {
      "cell_type": "markdown",
      "metadata": {
        "id": "mhjB5jTEIWOI"
      },
      "source": [
        "##下載Youtube影片"
      ]
    },
    {
      "cell_type": "markdown",
      "metadata": {
        "id": "mDFnkj6uIeAZ"
      },
      "source": [
        "###Pytube：Youtube影片下載"
      ]
    },
    {
      "cell_type": "code",
      "execution_count": null,
      "metadata": {
        "id": "cghwzEJsIlfA"
      },
      "outputs": [],
      "source": [
        "# 安裝\n",
        "!pip install pytube"
      ]
    },
    {
      "cell_type": "code",
      "execution_count": null,
      "metadata": {
        "id": "f-V7FhYxIlhy"
      },
      "outputs": [],
      "source": [
        "# 使用模組\n",
        "# from pytube import YouTube\n",
        "# yt = YouTube('https://www.youtube.com/watch?v=27ob2G3GUCQ')"
      ]
    },
    {
      "cell_type": "markdown",
      "source": [
        "####影片格式分析"
      ],
      "metadata": {
        "id": "BtK_nL7ZKzxj"
      }
    },
    {
      "cell_type": "code",
      "execution_count": null,
      "metadata": {
        "id": "67tXqCb-r_2g"
      },
      "outputs": [],
      "source": [
        "# 影片格式分析\n",
        "\n",
        "# 分析\n",
        "\n"
      ]
    },
    {
      "cell_type": "code",
      "execution_count": null,
      "metadata": {
        "id": "6YqxLNDlsAA-"
      },
      "outputs": [],
      "source": [
        "# 下載第1個影片\n"
      ]
    },
    {
      "cell_type": "markdown",
      "source": [
        "####下載篩選的影片"
      ],
      "metadata": {
        "id": "gh97PwsWROu6"
      }
    },
    {
      "cell_type": "code",
      "execution_count": null,
      "metadata": {
        "id": "PX_yVoMmjuV_"
      },
      "outputs": [],
      "source": [
        "# 影片篩選一 filter()\n",
        "# print(len(yt.streams)) # 共18部\n",
        "# st=yt.streams.filter(subtype='mp4',progressive=True)\n",
        "# print(len(st)) # 2部\n",
        "# for s in st:\n",
        "#   print(s)\n",
        "# st=yt.streams.filter(adaptive=True)\n",
        "# print(len(st)) # 15 部"
      ]
    },
    {
      "cell_type": "code",
      "execution_count": null,
      "metadata": {
        "id": "tvzIpL-ita64"
      },
      "outputs": [],
      "source": [
        "# 影片下載\n",
        "st=yt.streams.filter(subtype='mp4', progressive=True)\n",
        "print(len(st)) # 2部\n",
        "# 下載第1部\n",
        "# st.first().download(\"youtube\")\n",
        "# 下載第2部\n",
        "st[1].download(\"youtube\")"
      ]
    },
    {
      "cell_type": "markdown",
      "source": [
        "#### 練習：下載一部Python教學影片"
      ],
      "metadata": {
        "id": "RQuMabOPFIh9"
      }
    },
    {
      "cell_type": "code",
      "source": [
        "# 下載一部Python教學影片\n",
        "from pytube import YouTube\n",
        "yt = YouTube('https://www.youtube.com/watch?v=uPKgQ3FoVtY')\n",
        "print(yt.title)\n",
        "# for stream in yt.streams:\n",
        "#   print(stream)\n",
        "# print(yt.streams)\n"
      ],
      "metadata": {
        "id": "FbLDLlQYFbik"
      },
      "execution_count": null,
      "outputs": []
    },
    {
      "cell_type": "code",
      "source": [
        "# 下載茶米老師的Python教學影片\n",
        "# from pytube import YouTube\n",
        "# yt = YouTube('https://www.youtube.com/watch?v=TeyaCkb2ylM')\n",
        "# print(yt.title)\n",
        "# for stream in yt.streams:\n",
        "#   st=yt.streams.filter(subtype='mp4', res='360p',progressive=True)\n",
        "# print(len(st)) # 2部\n",
        "# print(st)\n",
        "# # 下載第1部\n",
        "# st.first().download(\"youtube\")\n",
        "# print(stream)"
      ],
      "metadata": {
        "id": "KY28zEhaIcHE"
      },
      "execution_count": null,
      "outputs": []
    },
    {
      "cell_type": "markdown",
      "metadata": {
        "id": "XBQgkMyxImLo"
      },
      "source": [
        "###下載YouTube 播放清單的影片"
      ]
    },
    {
      "cell_type": "code",
      "execution_count": null,
      "metadata": {
        "id": "Gb_0sfIgImmg"
      },
      "outputs": [],
      "source": [
        "# 使用 Playlist 類別下載清單\n",
        "from pytube import Playlist\n",
        "# 范瑋琪&張韶涵 王心凌\n",
        "p = Playlist(\"https://www.youtube.com/watch?v=wdH26D8Ssww&list=PLg_r40S5jeMIvAaq9OZweLCx8_N1OxO_Q\")\n",
        "# print(\"共有 \" + str(len(p.videos)) + \" 部影片\")\n",
        "# pathdir = \"download\"  #下載資料夾\n",
        "# print(\"開始下載：\")\n",
        "# try:\n",
        "#   for index, video in enumerate(p.videos):\n",
        "#     print(str(index+1) + '. ' + video.title)  #顯示標題\n",
        "#     video.streams.first().download(pathdir)\n",
        "# except:\n",
        "#   pass\n",
        "# print(\"下載完成！\")"
      ]
    },
    {
      "cell_type": "markdown",
      "source": [
        "#### 練習：下載自訂的播放清單"
      ],
      "metadata": {
        "id": "2ZPfd-HHLiQT"
      }
    },
    {
      "cell_type": "markdown",
      "source": [
        "#### Colab 播放 mp4"
      ],
      "metadata": {
        "id": "FRv7S-9dR31k"
      }
    },
    {
      "cell_type": "code",
      "source": [
        "# Colab 播放 mp4\n",
        "# 安裝 moviepy\n",
        "!pip install moviepy\n",
        "# 匯入模組\n",
        "from moviepy.editor import VideoFileClip\n",
        "# 3gpp 轉 mp4\n",
        "file='youtube/橡皮筋還能用來這樣嚇人？趣味魔術教學｜阿夾魔術教室.3gpp'\n",
        "vsr = VideoFileClip(file)\n",
        "vsr.write_videofile('mp4file.mp4')\n",
        "\n",
        "# 播放 mp4\n",
        "from IPython.display import HTML\n",
        "from base64 import b64encode\n",
        "# file = 要播放 .mp4 檔\n",
        "file = \"mp4file.mp4\"\n",
        "mp4 = open(file,'rb').read()\n",
        "data_url = \"data:video/mp4;base64,\" + b64encode(mp4).decode()\n",
        "HTML(f'<video width=400 controls><source src={data_url} type=\"video/mp4\"></video>')"
      ],
      "metadata": {
        "id": "WQuKR7soR4fC"
      },
      "execution_count": null,
      "outputs": []
    },
    {
      "cell_type": "markdown",
      "source": [
        "#語音文字處理"
      ],
      "metadata": {
        "id": "w6RjHcLbaJhR"
      }
    },
    {
      "cell_type": "markdown",
      "metadata": {
        "id": "PdxCkNxBhlIQ"
      },
      "source": [
        "##文字語音轉換模組"
      ]
    },
    {
      "cell_type": "markdown",
      "metadata": {
        "id": "WSm2DbyQhpTf"
      },
      "source": [
        "###gTTS模組：文字轉語音"
      ]
    },
    {
      "cell_type": "code",
      "execution_count": null,
      "metadata": {
        "id": "yXmeoLmwiSK4"
      },
      "outputs": [],
      "source": [
        "# 安裝\n",
        "!pip install gtts"
      ]
    },
    {
      "cell_type": "code",
      "execution_count": null,
      "metadata": {
        "id": "S5QTv-8LiSOf"
      },
      "outputs": [],
      "source": [
        "# 使用模組\n",
        "import gtts\n"
      ]
    },
    {
      "cell_type": "code",
      "execution_count": null,
      "metadata": {
        "id": "bsdH48OHxc__"
      },
      "outputs": [],
      "source": [
        "# 語系查詢\n",
        "gtts.lang.tts_langs()"
      ]
    },
    {
      "cell_type": "code",
      "execution_count": null,
      "metadata": {
        "id": "NDO9jhbjiSRv"
      },
      "outputs": [],
      "source": [
        "# 語音播放\n"
      ]
    },
    {
      "cell_type": "markdown",
      "metadata": {
        "id": "tkV1vhI4pSMr"
      },
      "source": [
        "####練習：將「How are you!」轉換成語音並播放。"
      ]
    },
    {
      "cell_type": "code",
      "execution_count": null,
      "metadata": {
        "id": "z2kngFC-pqtK"
      },
      "outputs": [],
      "source": [
        "# 將「How are you!」轉換成語音並播放\n",
        "import gtts\n",
        "\n"
      ]
    },
    {
      "cell_type": "markdown",
      "metadata": {
        "id": "bvgFbFufhwaP"
      },
      "source": [
        "###SpeechRecognition模組：語音轉文字\n"
      ]
    },
    {
      "cell_type": "code",
      "execution_count": null,
      "metadata": {
        "id": "_zk2r4xouaHN"
      },
      "outputs": [],
      "source": [
        "# 安裝\n",
        "!pip install SpeechRecognition"
      ]
    },
    {
      "cell_type": "code",
      "execution_count": null,
      "metadata": {
        "id": "UQzI4ZLzwMHE"
      },
      "outputs": [],
      "source": [
        "# 需要 <record1.wav>檔\n",
        "# 下載 Google 雲端硬碟的 <record1.zip> 並解壓縮\n",
        "\n",
        "!gdown '1y5SloM_6xujPva6_alU6aCNw7vqJxNWs' --output record1.zip\n",
        "!unzip record1.zip"
      ]
    },
    {
      "cell_type": "code",
      "execution_count": null,
      "metadata": {
        "id": "m5e4oGlauaLl"
      },
      "outputs": [],
      "source": [
        "# 使用模組\n",
        "import speech_recognition as sr\n",
        "# 建立語音辨識物件\n"
      ]
    },
    {
      "cell_type": "markdown",
      "source": [
        "####範例：讀取語音檔並將語音轉換為文字"
      ],
      "metadata": {
        "id": "pEMoeVkCmgIX"
      }
    },
    {
      "cell_type": "code",
      "execution_count": null,
      "metadata": {
        "id": "NlX8mdbVu5_t"
      },
      "outputs": [],
      "source": [
        "# 讀取語音檔\n"
      ]
    },
    {
      "cell_type": "code",
      "execution_count": null,
      "metadata": {
        "id": "8U1f2TGXvJl9"
      },
      "outputs": [],
      "source": [
        "# 語音辨識\n",
        "try:\n",
        "\n",
        "except:\n",
        "  print(\"語音辨識失敗!\")"
      ]
    },
    {
      "cell_type": "markdown",
      "source": [
        "#### 語音格式轉換"
      ],
      "metadata": {
        "id": "19iYqX5APZvk"
      }
    },
    {
      "cell_type": "code",
      "execution_count": null,
      "metadata": {
        "id": "mOdICy9P0yYl"
      },
      "outputs": [],
      "source": [
        "# 安裝\n",
        "!pip install pydub"
      ]
    },
    {
      "cell_type": "code",
      "execution_count": null,
      "metadata": {
        "id": "k8yW4BVJ0yd0"
      },
      "outputs": [],
      "source": [
        "# 語音格式轉換\n",
        "from pydub import AudioSegment\n",
        "# sound = AudioSegment.from_file(\"tts.mp3\")\n",
        "# sound.export(\"tts.wav\", format ='wav')\n",
        "# r = sr.Recognizer()\n",
        "# with sr.WavFile(\"tts.wav\") as source:\n",
        "#     audio = r.record(source)\n",
        "# try:\n",
        "#     word = r.recognize_google(audio, language=\"zh-TW\")\n",
        "#     print(\"語音辨識結果：\\n\" + word)\n",
        "# except:\n",
        "#     print(\"語音辨識失敗！\")"
      ]
    },
    {
      "cell_type": "markdown",
      "metadata": {
        "id": "48ItJGKL1Hrt"
      },
      "source": [
        "#### 使用麥克風進行語音辨識"
      ]
    },
    {
      "cell_type": "code",
      "execution_count": null,
      "metadata": {
        "id": "7MgO-SKX1TRM"
      },
      "outputs": [],
      "source": [
        "# 使用麥克風進行語音辨識\n",
        "import speech_recognition as sr\n",
        "from pydub import AudioSegment\n",
        "from IPython.display import display, Javascript\n",
        "from google.colab.output import eval_js\n",
        "from base64 import b64decode"
      ]
    },
    {
      "cell_type": "code",
      "execution_count": null,
      "metadata": {
        "id": "FXSssxe61TUM"
      },
      "outputs": [],
      "source": [
        "# 錄音函式\n",
        "def record_audio(filename):\n",
        "  js=Javascript(\"\"\"\n",
        "    async function recordAudio() {\n",
        "      const div = document.createElement('div');\n",
        "      const capture = document.createElement('button');\n",
        "      capture.textContent = \"開始錄音\";\n",
        "      capture.style.background = \"orange\";\n",
        "      capture.style.color = \"white\";\n",
        "      div.appendChild(capture);\n",
        "      const stopCapture = document.createElement(\"button\");\n",
        "      stopCapture.textContent = \"停止錄音\";\n",
        "      stopCapture.style.background = \"red\";\n",
        "      stopCapture.style.color = \"white\";\n",
        "      const audio = document.createElement('audio');\n",
        "      const recordingVid = document.createElement(\"audio\");\n",
        "      audio.style.display = 'block';\n",
        "      const stream = await navigator.mediaDevices.getUserMedia({audio:true});\n",
        "     \n",
        "      let recorder = new MediaRecorder(stream);\n",
        "      document.body.appendChild(div);\n",
        "      div.appendChild(audio);\n",
        "      audio.srcObject = stream;\n",
        "      audio.muted = true;\n",
        "      await audio.play();\n",
        "      google.colab.output.setIframeHeight(document.documentElement.scrollHeight, true);\n",
        "      await new Promise((resolve) => {capture.onclick = resolve; });\n",
        "      recorder.start();\n",
        "      capture.replaceWith(stopCapture);\n",
        "      await new Promise((resolve) => stopCapture.onclick = resolve);\n",
        "      recorder.stop();\n",
        "      let recData = await new Promise((resolve) => recorder.ondataavailable = resolve);\n",
        "      let arrBuff = await recData.data.arrayBuffer();\n",
        "      stream.getAudioTracks()[0].stop();\n",
        "      div.remove();\n",
        " \n",
        "      let binaryString = \"\";\n",
        "      let bytes = new Uint8Array(arrBuff);\n",
        "      bytes.forEach((byte) => {\n",
        "        binaryString += String.fromCharCode(byte);\n",
        "      })\n",
        "    return btoa(binaryString);\n",
        "    }\n",
        "  \"\"\")\n",
        "  try:\n",
        "    display(js)\n",
        "    data=eval_js('recordAudio({})')\n",
        "    binary=b64decode(data)\n",
        "    with open(filename,\"wb\") as audio_file:\n",
        "      audio_file.write(binary)\n",
        "  except Exception as err:\n",
        "    print(str(err))"
      ]
    },
    {
      "cell_type": "code",
      "execution_count": null,
      "metadata": {
        "id": "VntAIamF1TXM"
      },
      "outputs": [],
      "source": [
        "# 錄音並將語音轉換為文字\n",
        "record_audio(\"record.webm\")\n",
        "# sound = AudioSegment.from_file(\"record.webm\")\n",
        "# sound.export(\"record.wav\", format ='wav')\n",
        "# r = sr.Recognizer()\n",
        "# with sr.WavFile(\"record.wav\") as source:\n",
        "#     audio = r.record(source)\n",
        "# try:\n",
        "#     word = r.recognize_google(audio, language=\"zh-TW\")\n",
        "#     print(\"語音辨識結果：\\n\" + word)\n",
        "# except:\n",
        "#     print(\"語音辨識失敗！\")"
      ]
    },
    {
      "cell_type": "markdown",
      "metadata": {
        "id": "niwHsCjMwij6"
      },
      "source": [
        "####練習：使用麥克風錄音一段英文並轉換為文字。"
      ]
    },
    {
      "cell_type": "code",
      "execution_count": null,
      "metadata": {
        "id": "dOZc-qtVwjJR"
      },
      "outputs": [],
      "source": [
        "# 錄音一段英文並轉換為文字\n",
        "record_audio(\"myrecord.webm\")\n",
        "# sound = AudioSegment.from_file(\"myrecord.webm\")\n",
        "# sound.export(\"myrecord.wav\", format ='wav')\n",
        "# r = sr.Recognizer()\n",
        "# with sr.WavFile(\"myrecord.wav\") as source:\n",
        "#     audio = r.record(source)\n",
        "# try:\n",
        "#     word = r.recognize_google(audio, language=\"en\")\n",
        "#     print(\"語音辨識結果：\\n\" + word)\n",
        "# except:\n",
        "#     print(\"語音辨識失敗！\")"
      ]
    },
    {
      "cell_type": "markdown",
      "metadata": {
        "id": "UgUzBfoOhwd_"
      },
      "source": [
        "##文字翻譯"
      ]
    },
    {
      "cell_type": "markdown",
      "metadata": {
        "id": "d8WVH_ks2TAl"
      },
      "source": [
        "###google_trans_new模組：文字翻譯"
      ]
    },
    {
      "cell_type": "code",
      "execution_count": null,
      "metadata": {
        "id": "F9EXNgSx2MOU"
      },
      "outputs": [],
      "source": [
        "# 安裝\n",
        "!pip install google_trans_new"
      ]
    },
    {
      "cell_type": "code",
      "execution_count": null,
      "metadata": {
        "id": "7wDKtTSl2MSl"
      },
      "outputs": [],
      "source": [
        "# 修正程式碼\n",
        "!sed -i \"s/response = (decoded_line + ']')/response = decoded_line/g\" \\\n",
        "\t/usr/local/lib/python3.7/dist-packages/google_trans_new/google_trans_new.py"
      ]
    },
    {
      "cell_type": "code",
      "execution_count": null,
      "metadata": {
        "id": "uxWrCdRO2MWM"
      },
      "outputs": [],
      "source": [
        "# 使用模組\n",
        "from google_trans_new import google_translator\n"
      ]
    },
    {
      "cell_type": "markdown",
      "metadata": {
        "id": "5u3Vk-Nw14ow"
      },
      "source": [
        "####練習：將「大家好」翻譯成英文和日文。"
      ]
    },
    {
      "cell_type": "code",
      "execution_count": null,
      "metadata": {
        "id": "q8g3ilfL149w"
      },
      "outputs": [],
      "source": [
        "# 翻譯成英文和日文\n",
        "from google_trans_new import google_translator\n",
        "translator=google_translator()\n",
        "# word=translator.translate(\"大家好\",lang_tgt=\"en\",pronounce=True)\n",
        "# print(word)\n",
        "# word=translator.translate(\"大家好\",lang_tgt=\"ja\",pronounce=True)\n",
        "# print(word)"
      ]
    },
    {
      "cell_type": "markdown",
      "metadata": {
        "id": "P62F-u6M3aHN"
      },
      "source": [
        "###應用：智慧讀報機"
      ]
    },
    {
      "cell_type": "code",
      "execution_count": null,
      "metadata": {
        "id": "tVDifPTJ3Ce0"
      },
      "outputs": [],
      "source": [
        "# 安裝\n",
        "!pip install newspaper3k\n",
        "!pip install gTTS\n",
        "!pip install google_trans_new"
      ]
    },
    {
      "cell_type": "code",
      "execution_count": null,
      "metadata": {
        "id": "oW2ySUse3mO0"
      },
      "outputs": [],
      "source": [
        "import newspaper\n",
        "from newspaper import Article\n",
        "from google_trans_new import google_translator\n",
        "import gtts\n",
        "import IPython.display as display\n",
        "import random"
      ]
    },
    {
      "cell_type": "code",
      "execution_count": null,
      "metadata": {
        "id": "YJdvED0Z3mST"
      },
      "outputs": [],
      "source": [
        "# 擷取新聞\n",
        "paper = newspaper.build('http://cnn.com', language='en')\n",
        "urls = []\n",
        "for article in paper.articles:\n",
        "  url = article.url\n",
        "  if '.html' in url:\n",
        "    try:  #有時會產生無法擷取的錯誤,故使用try\n",
        "      article = Article(url)\n",
        "      article.download()\n",
        "      article.parse()\n",
        "      content = article.text\n",
        "      if len(content)>0:\n",
        "          urls.append(url)\n",
        "          if len(urls)>5:\n",
        "            break\n",
        "    except: pass\n",
        "print(len(urls))"
      ]
    },
    {
      "cell_type": "code",
      "execution_count": null,
      "metadata": {
        "id": "LhmEfWmi3maD"
      },
      "outputs": [],
      "source": [
        "# 任選一篇新聞並播報\n",
        "if len(urls)>0:\n",
        "  r = random.randint(0,len(urls)-1)\n",
        "  url = urls[r]\n",
        "  article = Article(url)\n",
        "  article.download()\n",
        "  article.parse()\n",
        "  content = article.text\n",
        "#  if len(content)>5000: content = content[:4999]\n",
        "  if len(content)>200: content = content[:200]\n",
        "  print(content[0:200])\n",
        "  translator = google_translator()\n",
        "  ret = translator.translate(content,lang_src='en',lang_tgt='zh-TW')\n",
        "  print(ret)\n",
        "else: \n",
        "  ret = '無可用新聞！'\n",
        "tts = gtts.gTTS(text=ret, lang='zh-tw')\n",
        "tts.save('news.mp3')\n",
        "display.Audio(\"news.mp3\", autoplay=True) "
      ]
    },
    {
      "cell_type": "markdown",
      "metadata": {
        "id": "NWH5JdU_4Bzd"
      },
      "source": [
        "#金融匯率股票資料收集"
      ]
    },
    {
      "cell_type": "markdown",
      "metadata": {
        "id": "dVnsX8wR_coe"
      },
      "source": [
        "##twstock模組：台灣股市資訊"
      ]
    },
    {
      "cell_type": "code",
      "execution_count": null,
      "metadata": {
        "id": "GZJv6dMz_dIM"
      },
      "outputs": [],
      "source": [
        "# 安裝\n",
        "!pip install twstock"
      ]
    },
    {
      "cell_type": "code",
      "execution_count": null,
      "metadata": {
        "id": "9XUFY81i_dL7"
      },
      "outputs": [],
      "source": [
        "# 查詢網址：https://www.twse.com.tw/zh/page/trading/exchange/STOCK_DAY.html\n",
        "# 使用模組\n",
        "import twstock \n",
        "stock = twstock.Stock('2317')\n",
        "print(stock.price)\n",
        "stock.raw_data"
      ]
    },
    {
      "cell_type": "code",
      "execution_count": null,
      "metadata": {
        "id": "7xUPEn3E_7Rs"
      },
      "outputs": [],
      "source": [
        "# 顯示最近1日開盤價、最高價、最低價及收盤價\n",
        "# print(\"日期：\",stock.date[-1])\n",
        "# print(\"開盤價：\",stock.open[-1])\n",
        "# print(\"最高價：\",stock.high[-1])\n",
        "# print(\"最低價：\",stock.low[-1])\n",
        "# print(\"收盤價：\",stock.price[-1])"
      ]
    },
    {
      "cell_type": "code",
      "execution_count": null,
      "metadata": {
        "id": "Oq0rnRtk_7U0"
      },
      "outputs": [],
      "source": [
        "# stock 的方法\n",
        "stock.fetch(2022,1)\n",
        "# stock.fetch_31()\n",
        "# stock.fetch_from(2021,10)"
      ]
    },
    {
      "cell_type": "markdown",
      "metadata": {
        "id": "7CnDPfPwAUeu"
      },
      "source": [
        "###查詢股票即時交易資訊"
      ]
    },
    {
      "cell_type": "code",
      "execution_count": null,
      "metadata": {
        "id": "RU47MKOpAXUH"
      },
      "outputs": [],
      "source": [
        "# 鴻海股票的即時交易資訊\n",
        "# real = twstock.realtime.get('2317')\n",
        "# real"
      ]
    },
    {
      "cell_type": "code",
      "execution_count": null,
      "metadata": {
        "id": "BUSUiz7EAXXd"
      },
      "outputs": [],
      "source": [
        "# 即時股價\n",
        "# if real['success']:\n",
        "#     print('股票名稱、即時股票資料：')\n",
        "#     print('股票名稱：',real['info']['name'])     \n",
        "#     print('開盤價：',real['realtime']['open'])\n",
        "#     print('最高價：',real['realtime']['high'])  \n",
        "#     print('最低價：',real['realtime']['low'])\n",
        "#     print('目前股價：',real['realtime']['latest_trade_price'])   \n",
        "# else:\n",
        "#     print('錯誤：' + real['rtmessage'])  "
      ]
    },
    {
      "cell_type": "markdown",
      "metadata": {
        "id": "RQF-FZfWh7_r"
      },
      "source": [
        "####練習：每30秒讀取一次鴻海的「目前股價」。"
      ]
    },
    {
      "cell_type": "code",
      "execution_count": null,
      "metadata": {
        "id": "Cy9dvGzIigWK"
      },
      "outputs": [],
      "source": [
        "# 每30秒讀取一次鴻海的「目前股價」\n",
        "import twstock \n",
        "import time\n",
        "# while True:\n",
        "#     realdata = twstock.realtime.get('2317')  #即時資料\n",
        "#     if realdata['success']:\n",
        "#         realprice = realdata['realtime']['latest_trade_price']  #目前股價\n",
        "#         print(realprice)\n",
        "#     time.sleep(30)"
      ]
    },
    {
      "cell_type": "markdown",
      "metadata": {
        "id": "qZdij8dfAank"
      },
      "source": [
        "###免費的通知利器：LINE Notify\n"
      ]
    },
    {
      "cell_type": "markdown",
      "metadata": {
        "id": "arEarNETMc0k"
      },
      "source": [
        "####申請 LINE Notify 權杖"
      ]
    },
    {
      "cell_type": "markdown",
      "metadata": {
        "id": "n7QGjvi5x14O"
      },
      "source": [
        "[Line Notify](https://notify-bot.line.me/zh_TW/)"
      ]
    },
    {
      "cell_type": "code",
      "execution_count": null,
      "metadata": {
        "id": "uI9Zgh6TAgVs"
      },
      "outputs": [],
      "source": [
        "https://notify-bot.line.me/zh_TW/"
      ]
    },
    {
      "cell_type": "markdown",
      "metadata": {
        "id": "y0NNbT02MrXs"
      },
      "source": [
        "####Line 中加入 Line Notify 為朋友\n",
        ">於行動裝置開啟LINE，點選 **主頁/搜尋好友**。於 搜尋好友 **頁面**，上方核選ID，搜尋欄輸入「@linenotify」後按 **搜尋** 鈕。出現LINE Notify，按 **加入** 鈕即完成設定。"
      ]
    },
    {
      "cell_type": "markdown",
      "source": [
        "####發送 LINE Notify 通知"
      ],
      "metadata": {
        "id": "SID8gMWi1Oj5"
      }
    },
    {
      "cell_type": "code",
      "execution_count": null,
      "metadata": {
        "id": "pu8F8eJIAgY8"
      },
      "outputs": [],
      "source": [
        "# 發送 LINE Notify 通知的語法\n",
        "import requests\n",
        "\n",
        "msg = '這是 LINE Notify 發送的訊息。'\n",
        "token = '你的 LINE Notify 權杖'  #權杖\n",
        "headers = {\n",
        "    \"Authorization\": \"Bearer \" + token, \n",
        "    \"Content-Type\" : \"application/x-www-form-urlencoded\"\n",
        "}\n",
        "payload = {'message': msg}\n",
        "notify = requests.post(\"https://notify-api.line.me/api/notify\", headers = headers, params = payload)\n",
        "if notify.status_code == 200:\n",
        "    print('發送 LINE Notify 成功！')\n",
        "else:\n",
        "    print('發送 LINE Notify 失敗！')"
      ]
    },
    {
      "cell_type": "markdown",
      "metadata": {
        "id": "PIx_nJS-kjY7"
      },
      "source": [
        "###練習：讀取鴻海的「目前股價」，若股價較高就以Line Noftiy 通知賣出。"
      ]
    },
    {
      "cell_type": "code",
      "source": [
        "# 讀取鴻海目前股價，若股價較高就以Line Noftiy 通知賣出\n",
        "import twstock \n",
        "import time\n",
        "import requests\n",
        "token = '你的 LINE Notify 權杖'  #權杖\n",
        "headers = {\n",
        "    \"Authorization\": \"Bearer \" + token, \n",
        "    \"Content-Type\" : \"application/x-www-form-urlencoded\"\n",
        "}\n",
        "\n",
        "while True:\n",
        "    realdata = twstock.realtime.get('2317')  #即時資料\n",
        "    if realdata['success']:\n",
        "        realprice = realdata['realtime']['latest_trade_price']  #目前股價\n",
        "        print(realprice)\n",
        "        # 若目前股價 > 100 元，以 Line Noftiy 通知賣出\n",
        "          \n",
        "    time.sleep(30)"
      ],
      "metadata": {
        "id": "M6zw4n1kooQP"
      },
      "execution_count": null,
      "outputs": []
    },
    {
      "cell_type": "markdown",
      "metadata": {
        "id": "9OrbJ-xPNGQT"
      },
      "source": [
        "### 應用：使用LINE監控即時股價"
      ]
    },
    {
      "cell_type": "code",
      "execution_count": null,
      "metadata": {
        "colab": {
          "base_uri": "https://localhost:8080/"
        },
        "id": "12nNZsensYKV",
        "outputId": "da7d7120-6046-459f-ad22-a12df40ef837"
      },
      "outputs": [
        {
          "name": "stdout",
          "output_type": "stream",
          "text": [
            "103.5\n"
          ]
        }
      ],
      "source": [
        "# 使用LINE監控即時股價\n",
        "# 這個版本 realdata['realtime']['latest_trade_price'] 有時是 「-」\n",
        "import twstock\n",
        "import time\n",
        "import requests\n",
        "\n",
        "def lineNotify(token, msg):\n",
        "    headers = {\n",
        "        \"Authorization\": \"Bearer \" + token, \n",
        "        \"Content-Type\" : \"application/x-www-form-urlencoded\"\n",
        "    }\n",
        "\n",
        "    payload = {'message': msg}\n",
        "    notify = requests.post(\"https://notify-api.line.me/api/notify\", headers = headers, params = payload)\n",
        "    return notify.status_code\n",
        "\n",
        "def sendline(mode, realprice, counterLine, token):\n",
        "    print('鴻海目前股價：' + str(realprice))\n",
        "    if mode == 1:\n",
        "        message = '現在鴻海股價為 ' + str(realprice) + '元，可以賣出股票了！'\n",
        "    else:\n",
        "        message = '現在鴻海股價為 ' + str(realprice) + '元，可以買入股票了！'\n",
        "    code = lineNotify(token, message)\n",
        "    if code == 200:\n",
        "        counterLine = counterLine + 1\n",
        "        print('第 ' + str(counterLine) + ' 次發送 LINE 訊息。')\n",
        "    else:\n",
        "        print('發送 LINE 訊息失敗！')\n",
        "    return counterLine\n",
        "\n",
        "token = '你的 LINE Notify 權杖'  #權杖\n",
        "counterLine = 0  #儲存發送次數\n",
        "counterError = 0  #儲存錯誤次數\n",
        "\n",
        "print('程式開始執行！')\n",
        "while True:\n",
        "    realdata = twstock.realtime.get('2317')  #即時資料\n",
        "    if realdata['success']:\n",
        "        realprice = realdata['realtime']['latest_trade_price']  #目前股價\n",
        "        if realprice != '-':\n",
        "          if float(realprice) >= 100:\n",
        "              counterLine = sendline(1, realprice, counterLine, token)\n",
        "          elif float(realprice) <= 90:\n",
        "              counterLine = sendline(2, realprice, counterLine, token)\n",
        "          if counterLine >= 3:  #最多發送3次就結束程式\n",
        "              print('程式結束！')\n",
        "              break\n",
        "    else:\n",
        "        print('twstock 讀取錯誤，錯誤原因：' + realdata['rtmessage'])\n",
        "        counterError = counterError + 1\n",
        "        if counterError >= 3:  #最多錯誤3次\n",
        "            print('程式結束！')\n",
        "            break\n",
        "    for i in range(300):  #每5分鐘讀一次\n",
        "        time.sleep(1)       "
      ]
    },
    {
      "cell_type": "code",
      "execution_count": null,
      "metadata": {
        "id": "GTm9hLsvn5LF"
      },
      "outputs": [],
      "source": [
        "# 使用LINE監控收盤價\n",
        "# 修正的版本：使用 stock.price[-1] 收盤價代替\n",
        "import twstock\n",
        "import time\n",
        "import requests\n",
        "\n",
        "def lineNotify(token, msg):\n",
        "    headers = {\n",
        "        \"Authorization\": \"Bearer \" + token, \n",
        "        \"Content-Type\" : \"application/x-www-form-urlencoded\"\n",
        "    }\n",
        "\n",
        "    payload = {'message': msg}\n",
        "    notify = requests.post(\"https://notify-api.line.me/api/notify\", headers = headers, params = payload)\n",
        "    return notify.status_code\n",
        "\n",
        "def sendline(mode, realprice, counterLine, token):\n",
        "    print('鴻海目前股價：' + str(realprice))\n",
        "    if mode == 1:\n",
        "        message = '現在鴻海股價為 ' + str(realprice) + '元，可以賣出股票了！'\n",
        "    else:\n",
        "        message = '現在鴻海股價為 ' + str(realprice) + '元，可以買入股票了！'\n",
        "    code = lineNotify(token, message)\n",
        "    if code == 200:\n",
        "        counterLine = counterLine + 1\n",
        "        print('第 ' + str(counterLine) + ' 次發送 LINE 訊息。')\n",
        "    else:\n",
        "        print('發送 LINE 訊息失敗！')\n",
        "    return counterLine\n",
        "\n",
        "token = '你的 LINE Notify 權杖'  #權杖\n",
        "counterLine = 0  #儲存發送次數\n",
        "counterError = 0  #儲存錯誤次數\n",
        "\n",
        "print('程式開始執行！')\n",
        "while True:\n",
        "    stock = twstock.Stock('2317')\n",
        "    realprice = stock.price[-1]\n",
        "    print(realprice)\n",
        "    try:\n",
        "        if float(realprice) >= 100:\n",
        "            counterLine = sendline(1, realprice, counterLine, token)\n",
        "        elif float(realprice) <= 90:\n",
        "            counterLine = sendline(2, realprice, counterLine, token)\n",
        "        if counterLine >= 3:  #最多發送3次就結束程式\n",
        "            print('程式結束！')\n",
        "            break\n",
        "    except:\n",
        "        print('twstock 讀取錯誤!')\n",
        "        counterError = counterError + 1\n",
        "        if counterError >= 3:  #最多錯誤3次\n",
        "            print('程式結束！')\n",
        "            break\n",
        "    for i in range(5):  #每5秒分鐘讀一次\n",
        "        time.sleep(1)       "
      ]
    }
  ],
  "metadata": {
    "accelerator": "GPU",
    "colab": {
      "collapsed_sections": [],
      "name": "進階模組實戰.ipynb",
      "provenance": [],
      "include_colab_link": true
    },
    "gpuClass": "standard",
    "kernelspec": {
      "display_name": "Python 3",
      "name": "python3"
    },
    "language_info": {
      "name": "python"
    }
  },
  "nbformat": 4,
  "nbformat_minor": 0
}